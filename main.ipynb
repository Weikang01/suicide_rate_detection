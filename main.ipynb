{
 "cells": [
  {
   "cell_type": "code",
   "execution_count": 4,
   "id": "7489d6e8-9a18-4c45-af63-8ced11f90b0b",
   "metadata": {
    "scrolled": true
   },
   "outputs": [
    {
     "name": "stdout",
     "output_type": "stream",
     "text": [
      "Requirement already satisfied: kaggle in d:\\lakeheaducourse\\3rd_year_winter\\bigdata_comp4311\\suiciderate\\venv\\lib\\site-packages (1.5.16)\n",
      "Requirement already satisfied: bleach in d:\\lakeheaducourse\\3rd_year_winter\\bigdata_comp4311\\suiciderate\\venv\\lib\\site-packages (from kaggle) (6.0.0)\n",
      "Requirement already satisfied: python-dateutil in d:\\lakeheaducourse\\3rd_year_winter\\bigdata_comp4311\\suiciderate\\venv\\lib\\site-packages (from kaggle) (2.8.2)\n",
      "Requirement already satisfied: six>=1.10 in d:\\lakeheaducourse\\3rd_year_winter\\bigdata_comp4311\\suiciderate\\venv\\lib\\site-packages (from kaggle) (1.16.0)\n",
      "Requirement already satisfied: requests in d:\\lakeheaducourse\\3rd_year_winter\\bigdata_comp4311\\suiciderate\\venv\\lib\\site-packages (from kaggle) (2.31.0)\n",
      "Requirement already satisfied: tqdm in d:\\lakeheaducourse\\3rd_year_winter\\bigdata_comp4311\\suiciderate\\venv\\lib\\site-packages (from kaggle) (4.66.1)\n",
      "Requirement already satisfied: python-slugify in d:\\lakeheaducourse\\3rd_year_winter\\bigdata_comp4311\\suiciderate\\venv\\lib\\site-packages (from kaggle) (8.0.1)\n",
      "Requirement already satisfied: urllib3 in d:\\lakeheaducourse\\3rd_year_winter\\bigdata_comp4311\\suiciderate\\venv\\lib\\site-packages (from kaggle) (2.0.4)\n",
      "Requirement already satisfied: certifi in d:\\lakeheaducourse\\3rd_year_winter\\bigdata_comp4311\\suiciderate\\venv\\lib\\site-packages (from kaggle) (2023.7.22)\n",
      "Requirement already satisfied: webencodings in d:\\lakeheaducourse\\3rd_year_winter\\bigdata_comp4311\\suiciderate\\venv\\lib\\site-packages (from bleach->kaggle) (0.5.1)\n",
      "Requirement already satisfied: text-unidecode>=1.3 in d:\\lakeheaducourse\\3rd_year_winter\\bigdata_comp4311\\suiciderate\\venv\\lib\\site-packages (from python-slugify->kaggle) (1.3)\n",
      "Requirement already satisfied: idna<4,>=2.5 in d:\\lakeheaducourse\\3rd_year_winter\\bigdata_comp4311\\suiciderate\\venv\\lib\\site-packages (from requests->kaggle) (3.4)\n",
      "Requirement already satisfied: charset-normalizer<4,>=2 in d:\\lakeheaducourse\\3rd_year_winter\\bigdata_comp4311\\suiciderate\\venv\\lib\\site-packages (from requests->kaggle) (3.2.0)\n",
      "Requirement already satisfied: colorama in d:\\lakeheaducourse\\3rd_year_winter\\bigdata_comp4311\\suiciderate\\venv\\lib\\site-packages (from tqdm->kaggle) (0.4.6)\n"
     ]
    },
    {
     "name": "stderr",
     "output_type": "stream",
     "text": [
      "WARNING: You are using pip version 21.3.1; however, version 23.2.1 is available.\n",
      "You should consider upgrading via the 'D:\\LakeheadUCourse\\3rd_year_winter\\BigData_COMP4311\\suicideRate\\venv\\Scripts\\python.exe -m pip install --upgrade pip' command.\n"
     ]
    },
    {
     "name": "stdout",
     "output_type": "stream",
     "text": [
      "Requirement already satisfied: pandas in d:\\lakeheaducourse\\3rd_year_winter\\bigdata_comp4311\\suiciderate\\venv\\lib\\site-packages (2.0.3)\n",
      "Requirement already satisfied: python-dateutil>=2.8.2 in d:\\lakeheaducourse\\3rd_year_winter\\bigdata_comp4311\\suiciderate\\venv\\lib\\site-packages (from pandas) (2.8.2)\n",
      "Requirement already satisfied: pytz>=2020.1 in d:\\lakeheaducourse\\3rd_year_winter\\bigdata_comp4311\\suiciderate\\venv\\lib\\site-packages (from pandas) (2023.3)\n",
      "Requirement already satisfied: numpy>=1.21.0 in d:\\lakeheaducourse\\3rd_year_winter\\bigdata_comp4311\\suiciderate\\venv\\lib\\site-packages (from pandas) (1.25.2)\n",
      "Requirement already satisfied: tzdata>=2022.1 in d:\\lakeheaducourse\\3rd_year_winter\\bigdata_comp4311\\suiciderate\\venv\\lib\\site-packages (from pandas) (2023.3)\n",
      "Requirement already satisfied: six>=1.5 in d:\\lakeheaducourse\\3rd_year_winter\\bigdata_comp4311\\suiciderate\\venv\\lib\\site-packages (from python-dateutil>=2.8.2->pandas) (1.16.0)\n"
     ]
    },
    {
     "name": "stderr",
     "output_type": "stream",
     "text": [
      "WARNING: You are using pip version 21.3.1; however, version 23.2.1 is available.\n",
      "You should consider upgrading via the 'D:\\LakeheadUCourse\\3rd_year_winter\\BigData_COMP4311\\suicideRate\\venv\\Scripts\\python.exe -m pip install --upgrade pip' command.\n"
     ]
    }
   ],
   "source": [
    "!pip install kaggle\n",
    "!pip install pandas"
   ]
  },
  {
   "cell_type": "markdown",
   "id": "715f8920-50f9-46f0-8eb2-ae4705ad5210",
   "metadata": {},
   "source": [
    "## Download Dataset"
   ]
  },
  {
   "cell_type": "code",
   "execution_count": 2,
   "id": "71c9bd25-0b09-4756-91fa-f9bfd89906fe",
   "metadata": {},
   "outputs": [
    {
     "name": "stdout",
     "output_type": "stream",
     "text": [
      "Dataset downloaded and extracted to: D:\\LakeheadUCourse\\3rd_year_winter\\BigData_COMP4311\\suicideRate\\data\n"
     ]
    }
   ],
   "source": [
    "import os\n",
    "from kaggle.api.kaggle_api_extended import KaggleApi\n",
    "\n",
    "# Specify the directory where you want to store the dataset\n",
    "dataset_directory = os.path.join(os.getcwd(), \"data\")  # This will create a 'data' folder in the current working directory\n",
    "\n",
    "# Kaggle API authentication\n",
    "api = KaggleApi()\n",
    "api.authenticate()\n",
    "\n",
    "# Download the dataset\n",
    "dataset_name = 'aunanya875/suicidal-tweet-detection-dataset'\n",
    "api.dataset_download_files(dataset_name, path=dataset_directory, unzip=True)\n",
    "\n",
    "print(\"Dataset downloaded and extracted to:\", dataset_directory)"
   ]
  },
  {
   "cell_type": "code",
   "execution_count": 6,
   "id": "b4ccff5e-8ae4-4557-b0f9-3daf08d4854f",
   "metadata": {},
   "outputs": [
    {
     "data": {
      "text/html": [
       "<div>\n",
       "<style scoped>\n",
       "    .dataframe tbody tr th:only-of-type {\n",
       "        vertical-align: middle;\n",
       "    }\n",
       "\n",
       "    .dataframe tbody tr th {\n",
       "        vertical-align: top;\n",
       "    }\n",
       "\n",
       "    .dataframe thead th {\n",
       "        text-align: right;\n",
       "    }\n",
       "</style>\n",
       "<table border=\"1\" class=\"dataframe\">\n",
       "  <thead>\n",
       "    <tr style=\"text-align: right;\">\n",
       "      <th></th>\n",
       "      <th>Tweet</th>\n",
       "      <th>Suicide</th>\n",
       "    </tr>\n",
       "  </thead>\n",
       "  <tbody>\n",
       "    <tr>\n",
       "      <th>0</th>\n",
       "      <td>making some lunch</td>\n",
       "      <td>Not Suicide post</td>\n",
       "    </tr>\n",
       "    <tr>\n",
       "      <th>1</th>\n",
       "      <td>@Alexia You want his money.</td>\n",
       "      <td>Not Suicide post</td>\n",
       "    </tr>\n",
       "    <tr>\n",
       "      <th>2</th>\n",
       "      <td>@dizzyhrvy that crap took me forever to put to...</td>\n",
       "      <td>Potential Suicide post</td>\n",
       "    </tr>\n",
       "    <tr>\n",
       "      <th>3</th>\n",
       "      <td>@jnaylor #kiwitweets Hey Jer! Since when did y...</td>\n",
       "      <td>Not Suicide post</td>\n",
       "    </tr>\n",
       "    <tr>\n",
       "      <th>4</th>\n",
       "      <td>Trying out &amp;quot;Delicious Library 2&amp;quot; wit...</td>\n",
       "      <td>Not Suicide post</td>\n",
       "    </tr>\n",
       "  </tbody>\n",
       "</table>\n",
       "</div>"
      ],
      "text/plain": [
       "                                               Tweet                  Suicide\n",
       "0                                  making some lunch         Not Suicide post\n",
       "1                        @Alexia You want his money.         Not Suicide post\n",
       "2  @dizzyhrvy that crap took me forever to put to...  Potential Suicide post \n",
       "3  @jnaylor #kiwitweets Hey Jer! Since when did y...         Not Suicide post\n",
       "4  Trying out &quot;Delicious Library 2&quot; wit...         Not Suicide post"
      ]
     },
     "execution_count": 6,
     "metadata": {},
     "output_type": "execute_result"
    }
   ],
   "source": [
    "df = pd.read_csv(os.path.join(dataset_directory, api.dataset_list_files(dataset_name).files[0].name))\n",
    "df.head()"
   ]
  },
  {
   "cell_type": "code",
   "execution_count": 5,
   "id": "c8b8a98f-87d5-4556-8ba4-fbcabd8cce9a",
   "metadata": {},
   "outputs": [
    {
     "data": {
      "text/plain": [
       "array(['Not Suicide post', 'Potential Suicide post '], dtype=object)"
      ]
     },
     "execution_count": 5,
     "metadata": {},
     "output_type": "execute_result"
    }
   ],
   "source": [
    "unique_suicide_values = df['Suicide'].unique()\n",
    "unique_suicide_values"
   ]
  },
  {
   "cell_type": "code",
   "execution_count": null,
   "id": "3ef6a648-f59a-4914-bf05-19d8e279ae04",
   "metadata": {},
   "outputs": [],
   "source": []
  }
 ],
 "metadata": {
  "kernelspec": {
   "display_name": "Python 3 (ipykernel)",
   "language": "python",
   "name": "python3"
  },
  "language_info": {
   "codemirror_mode": {
    "name": "ipython",
    "version": 3
   },
   "file_extension": ".py",
   "mimetype": "text/x-python",
   "name": "python",
   "nbconvert_exporter": "python",
   "pygments_lexer": "ipython3",
   "version": "3.10.7"
  }
 },
 "nbformat": 4,
 "nbformat_minor": 5
}
