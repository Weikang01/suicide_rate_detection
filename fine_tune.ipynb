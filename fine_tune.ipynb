{
 "cells": [
  {
   "cell_type": "code",
   "execution_count": 18,
   "id": "7489d6e8-9a18-4c45-af63-8ced11f90b0b",
   "metadata": {
    "scrolled": true
   },
   "outputs": [
    {
     "name": "stderr",
     "output_type": "stream",
     "text": [
      "WARNING: You are using pip version 21.3.1; however, version 23.2.1 is available.\n",
      "You should consider upgrading via the 'D:\\LakeheadUCourse\\3rd_year_winter\\BigData_COMP4311\\suicideRate\\venv\\Scripts\\python.exe -m pip install --upgrade pip' command.\n",
      "WARNING: You are using pip version 21.3.1; however, version 23.2.1 is available.\n",
      "You should consider upgrading via the 'D:\\LakeheadUCourse\\3rd_year_winter\\BigData_COMP4311\\suicideRate\\venv\\Scripts\\python.exe -m pip install --upgrade pip' command.\n",
      "WARNING: You are using pip version 21.3.1; however, version 23.2.1 is available.\n",
      "You should consider upgrading via the 'D:\\LakeheadUCourse\\3rd_year_winter\\BigData_COMP4311\\suicideRate\\venv\\Scripts\\python.exe -m pip install --upgrade pip' command.\n"
     ]
    }
   ],
   "source": [
    "!pip install kaggle --quiet\n",
    "!pip install pandas --quiet\n",
    "!pip install datasets transformers --quiet"
   ]
  },
  {
   "cell_type": "markdown",
   "id": "715f8920-50f9-46f0-8eb2-ae4705ad5210",
   "metadata": {},
   "source": [
    "## Download Dataset"
   ]
  },
  {
   "cell_type": "code",
   "execution_count": 2,
   "id": "71c9bd25-0b09-4756-91fa-f9bfd89906fe",
   "metadata": {},
   "outputs": [
    {
     "name": "stdout",
     "output_type": "stream",
     "text": [
      "Dataset downloaded and extracted to: D:\\LakeheadUCourse\\3rd_year_winter\\BigData_COMP4311\\suicideRate\\data\n"
     ]
    }
   ],
   "source": [
    "import os\n",
    "from kaggle.api.kaggle_api_extended import KaggleApi\n",
    "\n",
    "# Specify the directory where you want to store the dataset\n",
    "dataset_directory = os.path.join(os.getcwd(), \"data\")  # This will create a 'data' folder in the current working directory\n",
    "\n",
    "# Kaggle API authentication\n",
    "api = KaggleApi()\n",
    "api.authenticate()\n",
    "\n",
    "# Download the dataset\n",
    "dataset_name = 'aunanya875/suicidal-tweet-detection-dataset'\n",
    "dataset_path = os.path.join(dataset_directory, api.dataset_list_files(dataset_name).files[0].name)\n",
    "\n",
    "if not os.path.exists(dataset_path):\n",
    "    api.dataset_download_files(dataset_name, path=dataset_directory, unzip=True)\n",
    "    print(\"Dataset downloaded and extracted to:\", dataset_directory)"
   ]
  },
  {
   "cell_type": "code",
   "execution_count": 3,
   "id": "b4ccff5e-8ae4-4557-b0f9-3daf08d4854f",
   "metadata": {},
   "outputs": [
    {
     "data": {
      "text/plain": [
       "array(['Not Suicide post', 'Potential Suicide post '], dtype=object)"
      ]
     },
     "execution_count": 3,
     "metadata": {},
     "output_type": "execute_result"
    }
   ],
   "source": [
    "import pandas as pd\n",
    "\n",
    "df = pd.read_csv(dataset_path)\n",
    "df.rename(columns={'Suicide': 'label', 'Tweet': 'text'}, inplace=True)\n",
    "\n",
    "unique_suicide_values = df['label'].unique()\n",
    "unique_suicide_values"
   ]
  },
  {
   "cell_type": "code",
   "execution_count": 4,
   "id": "c8b8a98f-87d5-4556-8ba4-fbcabd8cce9a",
   "metadata": {},
   "outputs": [
    {
     "data": {
      "text/html": [
       "<div>\n",
       "<style scoped>\n",
       "    .dataframe tbody tr th:only-of-type {\n",
       "        vertical-align: middle;\n",
       "    }\n",
       "\n",
       "    .dataframe tbody tr th {\n",
       "        vertical-align: top;\n",
       "    }\n",
       "\n",
       "    .dataframe thead th {\n",
       "        text-align: right;\n",
       "    }\n",
       "</style>\n",
       "<table border=\"1\" class=\"dataframe\">\n",
       "  <thead>\n",
       "    <tr style=\"text-align: right;\">\n",
       "      <th></th>\n",
       "      <th>text</th>\n",
       "      <th>label</th>\n",
       "    </tr>\n",
       "  </thead>\n",
       "  <tbody>\n",
       "    <tr>\n",
       "      <th>0</th>\n",
       "      <td>making some lunch</td>\n",
       "      <td>0.0</td>\n",
       "    </tr>\n",
       "    <tr>\n",
       "      <th>1</th>\n",
       "      <td>@Alexia You want his money.</td>\n",
       "      <td>0.0</td>\n",
       "    </tr>\n",
       "    <tr>\n",
       "      <th>2</th>\n",
       "      <td>@dizzyhrvy that crap took me forever to put to...</td>\n",
       "      <td>1.0</td>\n",
       "    </tr>\n",
       "    <tr>\n",
       "      <th>3</th>\n",
       "      <td>@jnaylor #kiwitweets Hey Jer! Since when did y...</td>\n",
       "      <td>0.0</td>\n",
       "    </tr>\n",
       "    <tr>\n",
       "      <th>4</th>\n",
       "      <td>Trying out &amp;quot;Delicious Library 2&amp;quot; wit...</td>\n",
       "      <td>0.0</td>\n",
       "    </tr>\n",
       "  </tbody>\n",
       "</table>\n",
       "</div>"
      ],
      "text/plain": [
       "                                                text  label\n",
       "0                                  making some lunch    0.0\n",
       "1                        @Alexia You want his money.    0.0\n",
       "2  @dizzyhrvy that crap took me forever to put to...    1.0\n",
       "3  @jnaylor #kiwitweets Hey Jer! Since when did y...    0.0\n",
       "4  Trying out &quot;Delicious Library 2&quot; wit...    0.0"
      ]
     },
     "execution_count": 4,
     "metadata": {},
     "output_type": "execute_result"
    }
   ],
   "source": [
    "df['label'] = df['label'].astype('category').cat.codes.astype(float)\n",
    "df.head()"
   ]
  },
  {
   "cell_type": "markdown",
   "id": "37c4bcaa-6f34-4adb-91f5-1a12cc0937b3",
   "metadata": {},
   "source": [
    "## Clean Up Dataset"
   ]
  },
  {
   "cell_type": "code",
   "execution_count": 5,
   "id": "3ef6a648-f59a-4914-bf05-19d8e279ae04",
   "metadata": {
    "scrolled": true
   },
   "outputs": [
    {
     "name": "stderr",
     "output_type": "stream",
     "text": [
      "[nltk_data] Downloading package punkt to\n",
      "[nltk_data]     C:\\Users\\weikang\\AppData\\Roaming\\nltk_data...\n",
      "[nltk_data]   Package punkt is already up-to-date!\n"
     ]
    }
   ],
   "source": [
    "import nltk\n",
    "\n",
    "nltk.download('punkt')\n",
    "nltk.download('stopwords')\n",
    "\n",
    "from nltk.tokenize import word_tokenize\n",
    "from nltk.corpus import stopwords\n",
    "from nltk.stem import PorterStemmer\n",
    "import string\n",
    "\n",
    "def preprocess_text(text):\n",
    "    # Lowercase the text\n",
    "    text = str(text).lower()\n",
    "\n",
    "    # Remove punctuation\n",
    "    text = text.translate(str.maketrans(\"\", \"\", string.punctuation))\n",
    "\n",
    "    # Tokenize the text\n",
    "    tokens = word_tokenize(text)\n",
    "\n",
    "    # Remove stopwords\n",
    "    stop_words = set(stopwords.words(\"english\"))\n",
    "    tokens = [token for token in tokens if token not in stop_words]\n",
    "\n",
    "    # Stem the tokens\n",
    "    stemmer = PorterStemmer()\n",
    "    tokens = [stemmer.stem(token) for token in tokens]\n",
    "\n",
    "    return \" \".join(tokens)"
   ]
  },
  {
   "cell_type": "code",
   "execution_count": 6,
   "id": "b0bbb064-c8cc-44b2-ba1a-ab165adf0175",
   "metadata": {},
   "outputs": [
    {
     "data": {
      "text/plain": [
       "0                                           make lunch\n",
       "1                                    alexia want money\n",
       "2    dizzyhrvi crap took forev put togeth iâm go ...\n",
       "3         jnaylor kiwitweet hey jer sinc start twitter\n",
       "4    tri quotdelici librari 2quot mix result bar co...\n",
       "Name: text, dtype: object"
      ]
     },
     "execution_count": 6,
     "metadata": {},
     "output_type": "execute_result"
    }
   ],
   "source": [
    "df['text'] = df['text'].apply(preprocess_text)\n",
    "\n",
    "df['text'].head()"
   ]
  },
  {
   "cell_type": "code",
   "execution_count": null,
   "id": "821ba56e-4394-44a3-9932-353ce3de33d1",
   "metadata": {},
   "outputs": [],
   "source": []
  },
  {
   "cell_type": "code",
   "execution_count": 7,
   "id": "4c5b5929-888c-4f9e-a95a-81f7f0700ea6",
   "metadata": {},
   "outputs": [
    {
     "name": "stderr",
     "output_type": "stream",
     "text": [
      "D:\\LakeheadUCourse\\3rd_year_winter\\BigData_COMP4311\\suicideRate\\venv\\lib\\site-packages\\tqdm\\auto.py:21: TqdmWarning: IProgress not found. Please update jupyter and ipywidgets. See https://ipywidgets.readthedocs.io/en/stable/user_install.html\n",
      "  from .autonotebook import tqdm as notebook_tqdm\n"
     ]
    }
   ],
   "source": [
    "import transformers\n",
    "from datasets import Dataset,load_dataset, load_from_disk\n",
    "from transformers import AutoTokenizer, AutoModelForSequenceClassification"
   ]
  },
  {
   "cell_type": "code",
   "execution_count": 8,
   "id": "b9f154c5-0d3b-4fd8-bf4e-d262c98d27ca",
   "metadata": {
    "scrolled": true
   },
   "outputs": [
    {
     "data": {
      "text/plain": [
       "DatasetDict({\n",
       "    train: Dataset({\n",
       "        features: ['text', 'label'],\n",
       "        num_rows: 1250\n",
       "    })\n",
       "    test: Dataset({\n",
       "        features: ['text', 'label'],\n",
       "        num_rows: 537\n",
       "    })\n",
       "})"
      ]
     },
     "execution_count": 8,
     "metadata": {},
     "output_type": "execute_result"
    }
   ],
   "source": [
    "dataset = Dataset.from_pandas(df,preserve_index=False) \n",
    "dataset = dataset.train_test_split(test_size=0.3) \n",
    "dataset"
   ]
  },
  {
   "cell_type": "code",
   "execution_count": 9,
   "id": "187d840d-94cc-4559-bcfa-1f9b95bbbf94",
   "metadata": {},
   "outputs": [],
   "source": [
    "tokenizer = AutoTokenizer.from_pretrained(\"distilbert-base-uncased\")"
   ]
  },
  {
   "cell_type": "code",
   "execution_count": 10,
   "id": "feced1c4-5ef5-4510-b732-8c7d74474214",
   "metadata": {},
   "outputs": [
    {
     "name": "stderr",
     "output_type": "stream",
     "text": [
      "Map: 100%|████████████████████████████████████████████████████████████████████████████████████████████████████████████████████████████████| 1250/1250 [00:00<00:00, 3149.33 examples/s]\n",
      "Map: 100%|██████████████████████████████████████████████████████████████████████████████████████████████████████████████████████████████████| 537/537 [00:00<00:00, 2931.94 examples/s]\n"
     ]
    }
   ],
   "source": [
    "def tokenize_function(examples):\n",
    "    return tokenizer(examples[\"text\"], padding=\"max_length\", truncation=True)\n",
    "tokenized_datasets = dataset.map(tokenize_function, batched=True)"
   ]
  },
  {
   "cell_type": "code",
   "execution_count": 11,
   "id": "1af5edae-600e-492c-af04-9f1d90f0fc9e",
   "metadata": {},
   "outputs": [
    {
     "data": {
      "text/plain": [
       "DatasetDict({\n",
       "    train: Dataset({\n",
       "        features: ['text', 'label', 'input_ids', 'attention_mask'],\n",
       "        num_rows: 1250\n",
       "    })\n",
       "    test: Dataset({\n",
       "        features: ['text', 'label', 'input_ids', 'attention_mask'],\n",
       "        num_rows: 537\n",
       "    })\n",
       "})"
      ]
     },
     "execution_count": 11,
     "metadata": {},
     "output_type": "execute_result"
    }
   ],
   "source": [
    "tokenized_datasets"
   ]
  },
  {
   "cell_type": "code",
   "execution_count": 12,
   "id": "8bbee65b-b639-41ce-9e27-be35c7790c09",
   "metadata": {},
   "outputs": [
    {
     "name": "stderr",
     "output_type": "stream",
     "text": [
      "Some weights of DistilBertForSequenceClassification were not initialized from the model checkpoint at distilbert-base-uncased and are newly initialized: ['classifier.weight', 'pre_classifier.bias', 'pre_classifier.weight', 'classifier.bias']\n",
      "You should probably TRAIN this model on a down-stream task to be able to use it for predictions and inference.\n"
     ]
    }
   ],
   "source": [
    "model = AutoModelForSequenceClassification.from_pretrained(\"distilbert-base-uncased\", num_labels=1)"
   ]
  },
  {
   "cell_type": "code",
   "execution_count": 13,
   "id": "635d89a2-e8c8-48d0-bf79-2b7d9d9ea80f",
   "metadata": {},
   "outputs": [],
   "source": [
    "from datasets import load_metric\n",
    "from sklearn.metrics import mean_squared_error\n",
    "\n",
    "def compute_metrics(eval_pred):\n",
    "    predictions, labels = eval_pred\n",
    "    rmse = mean_squared_error(labels, predictions, squared=False)\n",
    "    return {\"rmse\": rmse}"
   ]
  },
  {
   "cell_type": "markdown",
   "id": "01ffdd95-b1e5-4783-ac26-505e7059d01c",
   "metadata": {},
   "source": [
    "## Model Training"
   ]
  },
  {
   "cell_type": "code",
   "execution_count": 14,
   "id": "36a601ee-6596-4519-8f7d-0257439b0473",
   "metadata": {
    "scrolled": true
   },
   "outputs": [
    {
     "name": "stdout",
     "output_type": "stream",
     "text": [
      "Requirement already satisfied: transformers[torch] in d:\\lakeheaducourse\\3rd_year_winter\\bigdata_comp4311\\suiciderate\\venv\\lib\\site-packages (4.32.1)\n",
      "Requirement already satisfied: pyyaml>=5.1 in d:\\lakeheaducourse\\3rd_year_winter\\bigdata_comp4311\\suiciderate\\venv\\lib\\site-packages (from transformers[torch]) (6.0.1)\n",
      "Requirement already satisfied: tqdm>=4.27 in d:\\lakeheaducourse\\3rd_year_winter\\bigdata_comp4311\\suiciderate\\venv\\lib\\site-packages (from transformers[torch]) (4.66.1)\n",
      "Requirement already satisfied: filelock in d:\\lakeheaducourse\\3rd_year_winter\\bigdata_comp4311\\suiciderate\\venv\\lib\\site-packages (from transformers[torch]) (3.12.3)\n",
      "Requirement already satisfied: tokenizers!=0.11.3,<0.14,>=0.11.1 in d:\\lakeheaducourse\\3rd_year_winter\\bigdata_comp4311\\suiciderate\\venv\\lib\\site-packages (from transformers[torch]) (0.13.3)\n",
      "Requirement already satisfied: huggingface-hub<1.0,>=0.15.1 in d:\\lakeheaducourse\\3rd_year_winter\\bigdata_comp4311\\suiciderate\\venv\\lib\\site-packages (from transformers[torch]) (0.16.4)\n",
      "Requirement already satisfied: regex!=2019.12.17 in d:\\lakeheaducourse\\3rd_year_winter\\bigdata_comp4311\\suiciderate\\venv\\lib\\site-packages (from transformers[torch]) (2023.8.8)\n",
      "Requirement already satisfied: safetensors>=0.3.1 in d:\\lakeheaducourse\\3rd_year_winter\\bigdata_comp4311\\suiciderate\\venv\\lib\\site-packages (from transformers[torch]) (0.3.3)\n",
      "Requirement already satisfied: packaging>=20.0 in d:\\lakeheaducourse\\3rd_year_winter\\bigdata_comp4311\\suiciderate\\venv\\lib\\site-packages (from transformers[torch]) (23.1)\n",
      "Requirement already satisfied: requests in d:\\lakeheaducourse\\3rd_year_winter\\bigdata_comp4311\\suiciderate\\venv\\lib\\site-packages (from transformers[torch]) (2.31.0)\n",
      "Requirement already satisfied: numpy>=1.17 in d:\\lakeheaducourse\\3rd_year_winter\\bigdata_comp4311\\suiciderate\\venv\\lib\\site-packages (from transformers[torch]) (1.25.2)\n",
      "Requirement already satisfied: torch!=1.12.0,>=1.9 in d:\\lakeheaducourse\\3rd_year_winter\\bigdata_comp4311\\suiciderate\\venv\\lib\\site-packages (from transformers[torch]) (2.1.0.dev20230902+cu121)\n",
      "Requirement already satisfied: accelerate>=0.20.3 in d:\\lakeheaducourse\\3rd_year_winter\\bigdata_comp4311\\suiciderate\\venv\\lib\\site-packages (from transformers[torch]) (0.22.0)\n",
      "Requirement already satisfied: psutil in d:\\lakeheaducourse\\3rd_year_winter\\bigdata_comp4311\\suiciderate\\venv\\lib\\site-packages (from accelerate>=0.20.3->transformers[torch]) (5.9.5)\n",
      "Requirement already satisfied: typing-extensions>=3.7.4.3 in d:\\lakeheaducourse\\3rd_year_winter\\bigdata_comp4311\\suiciderate\\venv\\lib\\site-packages (from huggingface-hub<1.0,>=0.15.1->transformers[torch]) (4.7.1)\n",
      "Requirement already satisfied: fsspec in d:\\lakeheaducourse\\3rd_year_winter\\bigdata_comp4311\\suiciderate\\venv\\lib\\site-packages (from huggingface-hub<1.0,>=0.15.1->transformers[torch]) (2023.9.0)\n",
      "Requirement already satisfied: networkx in d:\\lakeheaducourse\\3rd_year_winter\\bigdata_comp4311\\suiciderate\\venv\\lib\\site-packages (from torch!=1.12.0,>=1.9->transformers[torch]) (3.1)\n",
      "Requirement already satisfied: sympy in d:\\lakeheaducourse\\3rd_year_winter\\bigdata_comp4311\\suiciderate\\venv\\lib\\site-packages (from torch!=1.12.0,>=1.9->transformers[torch]) (1.12)\n",
      "Requirement already satisfied: jinja2 in d:\\lakeheaducourse\\3rd_year_winter\\bigdata_comp4311\\suiciderate\\venv\\lib\\site-packages (from torch!=1.12.0,>=1.9->transformers[torch]) (3.1.2)\n",
      "Requirement already satisfied: colorama in d:\\lakeheaducourse\\3rd_year_winter\\bigdata_comp4311\\suiciderate\\venv\\lib\\site-packages (from tqdm>=4.27->transformers[torch]) (0.4.6)\n",
      "Requirement already satisfied: idna<4,>=2.5 in d:\\lakeheaducourse\\3rd_year_winter\\bigdata_comp4311\\suiciderate\\venv\\lib\\site-packages (from requests->transformers[torch]) (3.4)\n",
      "Requirement already satisfied: urllib3<3,>=1.21.1 in d:\\lakeheaducourse\\3rd_year_winter\\bigdata_comp4311\\suiciderate\\venv\\lib\\site-packages (from requests->transformers[torch]) (2.0.4)\n",
      "Requirement already satisfied: charset-normalizer<4,>=2 in d:\\lakeheaducourse\\3rd_year_winter\\bigdata_comp4311\\suiciderate\\venv\\lib\\site-packages (from requests->transformers[torch]) (3.2.0)\n",
      "Requirement already satisfied: certifi>=2017.4.17 in d:\\lakeheaducourse\\3rd_year_winter\\bigdata_comp4311\\suiciderate\\venv\\lib\\site-packages (from requests->transformers[torch]) (2023.7.22)\n",
      "Requirement already satisfied: MarkupSafe>=2.0 in d:\\lakeheaducourse\\3rd_year_winter\\bigdata_comp4311\\suiciderate\\venv\\lib\\site-packages (from jinja2->torch!=1.12.0,>=1.9->transformers[torch]) (2.1.3)\n",
      "Requirement already satisfied: mpmath>=0.19 in d:\\lakeheaducourse\\3rd_year_winter\\bigdata_comp4311\\suiciderate\\venv\\lib\\site-packages (from sympy->torch!=1.12.0,>=1.9->transformers[torch]) (1.3.0)\n"
     ]
    },
    {
     "name": "stderr",
     "output_type": "stream",
     "text": [
      "WARNING: You are using pip version 21.3.1; however, version 23.2.1 is available.\n",
      "You should consider upgrading via the 'D:\\LakeheadUCourse\\3rd_year_winter\\BigData_COMP4311\\suicideRate\\venv\\Scripts\\python.exe -m pip install --upgrade pip' command.\n"
     ]
    },
    {
     "name": "stdout",
     "output_type": "stream",
     "text": [
      "Looking in indexes: https://download.pytorch.org/whl/nightly/cu121\n",
      "Requirement already satisfied: torch in d:\\lakeheaducourse\\3rd_year_winter\\bigdata_comp4311\\suiciderate\\venv\\lib\\site-packages (2.1.0.dev20230902+cu121)\n",
      "Requirement already satisfied: torchvision in d:\\lakeheaducourse\\3rd_year_winter\\bigdata_comp4311\\suiciderate\\venv\\lib\\site-packages (0.16.0.dev20230902+cu121)\n",
      "Requirement already satisfied: torchaudio in d:\\lakeheaducourse\\3rd_year_winter\\bigdata_comp4311\\suiciderate\\venv\\lib\\site-packages (2.2.0.dev20230902+cu121)\n",
      "Requirement already satisfied: fsspec in d:\\lakeheaducourse\\3rd_year_winter\\bigdata_comp4311\\suiciderate\\venv\\lib\\site-packages (from torch) (2023.9.0)\n",
      "Requirement already satisfied: filelock in d:\\lakeheaducourse\\3rd_year_winter\\bigdata_comp4311\\suiciderate\\venv\\lib\\site-packages (from torch) (3.12.3)\n",
      "Requirement already satisfied: networkx in d:\\lakeheaducourse\\3rd_year_winter\\bigdata_comp4311\\suiciderate\\venv\\lib\\site-packages (from torch) (3.1)\n",
      "Requirement already satisfied: jinja2 in d:\\lakeheaducourse\\3rd_year_winter\\bigdata_comp4311\\suiciderate\\venv\\lib\\site-packages (from torch) (3.1.2)\n",
      "Requirement already satisfied: typing-extensions in d:\\lakeheaducourse\\3rd_year_winter\\bigdata_comp4311\\suiciderate\\venv\\lib\\site-packages (from torch) (4.7.1)\n",
      "Requirement already satisfied: sympy in d:\\lakeheaducourse\\3rd_year_winter\\bigdata_comp4311\\suiciderate\\venv\\lib\\site-packages (from torch) (1.12)\n",
      "Requirement already satisfied: numpy in d:\\lakeheaducourse\\3rd_year_winter\\bigdata_comp4311\\suiciderate\\venv\\lib\\site-packages (from torchvision) (1.25.2)\n",
      "Requirement already satisfied: pillow!=8.3.*,>=5.3.0 in d:\\lakeheaducourse\\3rd_year_winter\\bigdata_comp4311\\suiciderate\\venv\\lib\\site-packages (from torchvision) (9.3.0)\n",
      "Requirement already satisfied: requests in d:\\lakeheaducourse\\3rd_year_winter\\bigdata_comp4311\\suiciderate\\venv\\lib\\site-packages (from torchvision) (2.31.0)\n",
      "Requirement already satisfied: MarkupSafe>=2.0 in d:\\lakeheaducourse\\3rd_year_winter\\bigdata_comp4311\\suiciderate\\venv\\lib\\site-packages (from jinja2->torch) (2.1.3)\n",
      "Requirement already satisfied: charset-normalizer<4,>=2 in d:\\lakeheaducourse\\3rd_year_winter\\bigdata_comp4311\\suiciderate\\venv\\lib\\site-packages (from requests->torchvision) (3.2.0)\n",
      "Requirement already satisfied: idna<4,>=2.5 in d:\\lakeheaducourse\\3rd_year_winter\\bigdata_comp4311\\suiciderate\\venv\\lib\\site-packages (from requests->torchvision) (3.4)\n",
      "Requirement already satisfied: urllib3<3,>=1.21.1 in d:\\lakeheaducourse\\3rd_year_winter\\bigdata_comp4311\\suiciderate\\venv\\lib\\site-packages (from requests->torchvision) (2.0.4)\n",
      "Requirement already satisfied: certifi>=2017.4.17 in d:\\lakeheaducourse\\3rd_year_winter\\bigdata_comp4311\\suiciderate\\venv\\lib\\site-packages (from requests->torchvision) (2023.7.22)\n",
      "Requirement already satisfied: mpmath>=0.19 in d:\\lakeheaducourse\\3rd_year_winter\\bigdata_comp4311\\suiciderate\\venv\\lib\\site-packages (from sympy->torch) (1.3.0)\n"
     ]
    },
    {
     "name": "stderr",
     "output_type": "stream",
     "text": [
      "WARNING: You are using pip version 21.3.1; however, version 23.2.1 is available.\n",
      "You should consider upgrading via the 'D:\\LakeheadUCourse\\3rd_year_winter\\BigData_COMP4311\\suicideRate\\venv\\Scripts\\python.exe -m pip install --upgrade pip' command.\n"
     ]
    }
   ],
   "source": [
    "!pip install transformers[torch]\n",
    "!pip3 install --pre torch torchvision torchaudio --index-url https://download.pytorch.org/whl/nightly/cu121"
   ]
  },
  {
   "cell_type": "code",
   "execution_count": 15,
   "id": "0bee682f-dc11-412c-81a8-de357b2e1074",
   "metadata": {},
   "outputs": [
    {
     "data": {
      "text/plain": [
       "device(type='cuda')"
      ]
     },
     "execution_count": 15,
     "metadata": {},
     "output_type": "execute_result"
    }
   ],
   "source": [
    "import torch\n",
    "device = torch.device(\"cuda\" if torch.cuda.is_available() else \"cpu\")\n",
    "device"
   ]
  },
  {
   "cell_type": "code",
   "execution_count": 16,
   "id": "9062ebed-722b-4721-8d19-cda4bdc3ed3c",
   "metadata": {
    "scrolled": true
   },
   "outputs": [
    {
     "data": {
      "text/html": [
       "\n",
       "    <div>\n",
       "      \n",
       "      <progress value='3' max='79' style='width:300px; height:20px; vertical-align: middle;'></progress>\n",
       "      [ 3/79 00:42 < 53:33, 0.02 it/s, Epoch 0.03/1]\n",
       "    </div>\n",
       "    <table border=\"1\" class=\"dataframe\">\n",
       "  <thead>\n",
       " <tr style=\"text-align: left;\">\n",
       "      <th>Epoch</th>\n",
       "      <th>Training Loss</th>\n",
       "      <th>Validation Loss</th>\n",
       "    </tr>\n",
       "  </thead>\n",
       "  <tbody>\n",
       "  </tbody>\n",
       "</table><p>"
      ],
      "text/plain": [
       "<IPython.core.display.HTML object>"
      ]
     },
     "metadata": {},
     "output_type": "display_data"
    },
    {
     "ename": "KeyboardInterrupt",
     "evalue": "",
     "output_type": "error",
     "traceback": [
      "\u001B[1;31m---------------------------------------------------------------------------\u001B[0m",
      "\u001B[1;31mKeyboardInterrupt\u001B[0m                         Traceback (most recent call last)",
      "Cell \u001B[1;32mIn[16], line 19\u001B[0m\n\u001B[0;32m      2\u001B[0m training_args \u001B[38;5;241m=\u001B[39m TrainingArguments(output_dir\u001B[38;5;241m=\u001B[39m\u001B[38;5;124m\"\u001B[39m\u001B[38;5;124msuicide_rate_model_out\u001B[39m\u001B[38;5;124m\"\u001B[39m,\n\u001B[0;32m      3\u001B[0m                                   logging_strategy\u001B[38;5;241m=\u001B[39m\u001B[38;5;124m\"\u001B[39m\u001B[38;5;124mepoch\u001B[39m\u001B[38;5;124m\"\u001B[39m,\n\u001B[0;32m      4\u001B[0m                                   evaluation_strategy\u001B[38;5;241m=\u001B[39m\u001B[38;5;124m\"\u001B[39m\u001B[38;5;124mepoch\u001B[39m\u001B[38;5;124m\"\u001B[39m,\n\u001B[1;32m   (...)\u001B[0m\n\u001B[0;32m     10\u001B[0m                                   load_best_model_at_end\u001B[38;5;241m=\u001B[39m\u001B[38;5;28;01mFalse\u001B[39;00m\n\u001B[0;32m     11\u001B[0m                                   )\n\u001B[0;32m     12\u001B[0m trainer \u001B[38;5;241m=\u001B[39m Trainer(\n\u001B[0;32m     13\u001B[0m     model\u001B[38;5;241m=\u001B[39mmodel,\n\u001B[0;32m     14\u001B[0m     args\u001B[38;5;241m=\u001B[39mtraining_args,\n\u001B[1;32m   (...)\u001B[0m\n\u001B[0;32m     17\u001B[0m     compute_metrics\u001B[38;5;241m=\u001B[39mcompute_metrics\n\u001B[0;32m     18\u001B[0m )\n\u001B[1;32m---> 19\u001B[0m \u001B[43mtrainer\u001B[49m\u001B[38;5;241;43m.\u001B[39;49m\u001B[43mtrain\u001B[49m\u001B[43m(\u001B[49m\u001B[43m)\u001B[49m\n",
      "File \u001B[1;32mD:\\LakeheadUCourse\\3rd_year_winter\\BigData_COMP4311\\suicideRate\\venv\\lib\\site-packages\\transformers\\trainer.py:1555\u001B[0m, in \u001B[0;36mTrainer.train\u001B[1;34m(self, resume_from_checkpoint, trial, ignore_keys_for_eval, **kwargs)\u001B[0m\n\u001B[0;32m   1553\u001B[0m         hf_hub_utils\u001B[38;5;241m.\u001B[39menable_progress_bars()\n\u001B[0;32m   1554\u001B[0m \u001B[38;5;28;01melse\u001B[39;00m:\n\u001B[1;32m-> 1555\u001B[0m     \u001B[38;5;28;01mreturn\u001B[39;00m \u001B[43minner_training_loop\u001B[49m\u001B[43m(\u001B[49m\n\u001B[0;32m   1556\u001B[0m \u001B[43m        \u001B[49m\u001B[43margs\u001B[49m\u001B[38;5;241;43m=\u001B[39;49m\u001B[43margs\u001B[49m\u001B[43m,\u001B[49m\n\u001B[0;32m   1557\u001B[0m \u001B[43m        \u001B[49m\u001B[43mresume_from_checkpoint\u001B[49m\u001B[38;5;241;43m=\u001B[39;49m\u001B[43mresume_from_checkpoint\u001B[49m\u001B[43m,\u001B[49m\n\u001B[0;32m   1558\u001B[0m \u001B[43m        \u001B[49m\u001B[43mtrial\u001B[49m\u001B[38;5;241;43m=\u001B[39;49m\u001B[43mtrial\u001B[49m\u001B[43m,\u001B[49m\n\u001B[0;32m   1559\u001B[0m \u001B[43m        \u001B[49m\u001B[43mignore_keys_for_eval\u001B[49m\u001B[38;5;241;43m=\u001B[39;49m\u001B[43mignore_keys_for_eval\u001B[49m\u001B[43m,\u001B[49m\n\u001B[0;32m   1560\u001B[0m \u001B[43m    \u001B[49m\u001B[43m)\u001B[49m\n",
      "File \u001B[1;32mD:\\LakeheadUCourse\\3rd_year_winter\\BigData_COMP4311\\suicideRate\\venv\\lib\\site-packages\\transformers\\trainer.py:1842\u001B[0m, in \u001B[0;36mTrainer._inner_training_loop\u001B[1;34m(self, batch_size, args, resume_from_checkpoint, trial, ignore_keys_for_eval)\u001B[0m\n\u001B[0;32m   1836\u001B[0m \u001B[38;5;28;01mwith\u001B[39;00m \u001B[38;5;28mself\u001B[39m\u001B[38;5;241m.\u001B[39maccelerator\u001B[38;5;241m.\u001B[39maccumulate(model):\n\u001B[0;32m   1837\u001B[0m     tr_loss_step \u001B[38;5;241m=\u001B[39m \u001B[38;5;28mself\u001B[39m\u001B[38;5;241m.\u001B[39mtraining_step(model, inputs)\n\u001B[0;32m   1839\u001B[0m \u001B[38;5;28;01mif\u001B[39;00m (\n\u001B[0;32m   1840\u001B[0m     args\u001B[38;5;241m.\u001B[39mlogging_nan_inf_filter\n\u001B[0;32m   1841\u001B[0m     \u001B[38;5;129;01mand\u001B[39;00m \u001B[38;5;129;01mnot\u001B[39;00m is_torch_tpu_available()\n\u001B[1;32m-> 1842\u001B[0m     \u001B[38;5;129;01mand\u001B[39;00m (torch\u001B[38;5;241m.\u001B[39misnan(tr_loss_step) \u001B[38;5;129;01mor\u001B[39;00m \u001B[43mtorch\u001B[49m\u001B[38;5;241;43m.\u001B[39;49m\u001B[43misinf\u001B[49m\u001B[43m(\u001B[49m\u001B[43mtr_loss_step\u001B[49m\u001B[43m)\u001B[49m)\n\u001B[0;32m   1843\u001B[0m ):\n\u001B[0;32m   1844\u001B[0m     \u001B[38;5;66;03m# if loss is nan or inf simply add the average of previous logged losses\u001B[39;00m\n\u001B[0;32m   1845\u001B[0m     tr_loss \u001B[38;5;241m+\u001B[39m\u001B[38;5;241m=\u001B[39m tr_loss \u001B[38;5;241m/\u001B[39m (\u001B[38;5;241m1\u001B[39m \u001B[38;5;241m+\u001B[39m \u001B[38;5;28mself\u001B[39m\u001B[38;5;241m.\u001B[39mstate\u001B[38;5;241m.\u001B[39mglobal_step \u001B[38;5;241m-\u001B[39m \u001B[38;5;28mself\u001B[39m\u001B[38;5;241m.\u001B[39m_globalstep_last_logged)\n\u001B[0;32m   1846\u001B[0m \u001B[38;5;28;01melse\u001B[39;00m:\n",
      "\u001B[1;31mKeyboardInterrupt\u001B[0m: "
     ]
    }
   ],
   "source": [
    "from transformers import TrainingArguments, Trainer\n",
    "training_args = TrainingArguments(output_dir=\"suicide_rate_model_out\",\n",
    "                                  logging_strategy=\"epoch\",\n",
    "                                  evaluation_strategy=\"epoch\",\n",
    "                                  per_device_train_batch_size=16,\n",
    "                                  per_device_eval_batch_size=16,\n",
    "                                  num_train_epochs=10,\n",
    "                                  save_total_limit = 2,\n",
    "                                  save_strategy = 'epoch',\n",
    "                                  load_best_model_at_end=False\n",
    "                                  )\n",
    "trainer = Trainer(\n",
    "    model=model,\n",
    "    args=training_args,\n",
    "    train_dataset=tokenized_datasets[\"train\"],\n",
    "    eval_dataset=tokenized_datasets[\"test\"],\n",
    "    compute_metrics=compute_metrics\n",
    ")\n",
    "trainer.train()"
   ]
  },
  {
   "cell_type": "code",
   "execution_count": null,
   "id": "726dec41-11ce-430b-a23a-f884d93864c4",
   "metadata": {},
   "outputs": [],
   "source": [
    "import torch\n",
    "from transformers import AutoModelForSequenceClassification, AutoTokenizer\n",
    "\n",
    "# Load the trained model from a local directory\n",
    "model_path = \"suicide_rate_model_out\"  # Replace with your model path\n",
    "model = AutoModelForSequenceClassification.from_pretrained(model_path, local_files_only=True)\n",
    "\n",
    "# Input text\n",
    "input_text = \"This is a test sentence.\"\n",
    "\n",
    "# Tokenize input text\n",
    "inputs = tokenizer(input_text, return_tensors=\"pt\", padding=\"max_length\", truncation=True)\n",
    "\n",
    "# Make predictions\n",
    "with torch.no_grad():\n",
    "    logits = model(**inputs).logits\n",
    "\n",
    "# Convert logits to predicted values (assuming a single regression output)\n",
    "predicted_value = logits.item()\n",
    "\n",
    "# Print results\n",
    "print(\"Input Text:\", input_text)\n",
    "print(\"Predicted Value:\", predicted_value)"
   ]
  }
 ],
 "metadata": {
  "kernelspec": {
   "display_name": "Python 3 (ipykernel)",
   "language": "python",
   "name": "python3"
  },
  "language_info": {
   "codemirror_mode": {
    "name": "ipython",
    "version": 3
   },
   "file_extension": ".py",
   "mimetype": "text/x-python",
   "name": "python",
   "nbconvert_exporter": "python",
   "pygments_lexer": "ipython3",
   "version": "3.10.7"
  }
 },
 "nbformat": 4,
 "nbformat_minor": 5
}
